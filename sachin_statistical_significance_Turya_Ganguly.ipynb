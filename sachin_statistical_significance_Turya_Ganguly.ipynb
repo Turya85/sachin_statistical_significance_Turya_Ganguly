{
  "cells": [
    {
      "cell_type": "code",
      "execution_count": null,
      "id": "542ae2ba",
      "metadata": {
        "id": "542ae2ba"
      },
      "outputs": [],
      "source": [
        "import numpy as np\n",
        "import pandas as pd\n",
        "import seaborn as sns\n",
        "import matplotlib.pyplot as plt\n",
        "\n",
        "from scipy.stats import ttest_ind, f_oneway, kruskal # numeric Vs catogerical\n",
        "from scipy.stats import chi2_contingency # categorical Vs categorical\n",
        "from scipy.stats import pearsonr, spearmanr # numeric Vs numeric\n",
        "from scipy.stats import kstest # cdf\n",
        "from scipy.stats import levene\n",
        "from scipy.stats import norm\n",
        "from scipy.stats import shapiro\n",
        "\n",
        "from statsmodels.distributions.empirical_distribution import ECDF\n",
        "from statsmodels.graphics.gofplots import qqplot, qqplot_2samples"
      ]
    },
    {
      "cell_type": "code",
      "execution_count": null,
      "id": "06f8aabf",
      "metadata": {
        "id": "06f8aabf"
      },
      "outputs": [],
      "source": [
        "df = pd.read_csv(\"Sachin_ODI.csv\")"
      ]
    },
    {
      "cell_type": "code",
      "execution_count": null,
      "id": "f6065af3",
      "metadata": {
        "id": "f6065af3",
        "outputId": "4a748bd7-43a2-4e01-da5b-521b81472fb3"
      },
      "outputs": [
        {
          "data": {
            "text/html": [
              "<div>\n",
              "<style scoped>\n",
              "    .dataframe tbody tr th:only-of-type {\n",
              "        vertical-align: middle;\n",
              "    }\n",
              "\n",
              "    .dataframe tbody tr th {\n",
              "        vertical-align: top;\n",
              "    }\n",
              "\n",
              "    .dataframe thead th {\n",
              "        text-align: right;\n",
              "    }\n",
              "</style>\n",
              "<table border=\"1\" class=\"dataframe\">\n",
              "  <thead>\n",
              "    <tr style=\"text-align: right;\">\n",
              "      <th></th>\n",
              "      <th>runs</th>\n",
              "      <th>NotOut</th>\n",
              "      <th>mins</th>\n",
              "      <th>bf</th>\n",
              "      <th>fours</th>\n",
              "      <th>sixes</th>\n",
              "      <th>sr</th>\n",
              "      <th>Inns</th>\n",
              "      <th>Opp</th>\n",
              "      <th>Ground</th>\n",
              "      <th>Date</th>\n",
              "      <th>Winner</th>\n",
              "      <th>Won</th>\n",
              "      <th>century</th>\n",
              "    </tr>\n",
              "  </thead>\n",
              "  <tbody>\n",
              "    <tr>\n",
              "      <th>0</th>\n",
              "      <td>13</td>\n",
              "      <td>0</td>\n",
              "      <td>30</td>\n",
              "      <td>15</td>\n",
              "      <td>3</td>\n",
              "      <td>0</td>\n",
              "      <td>86.66</td>\n",
              "      <td>1</td>\n",
              "      <td>New Zealand</td>\n",
              "      <td>Napier</td>\n",
              "      <td>1995-02-16</td>\n",
              "      <td>New Zealand</td>\n",
              "      <td>False</td>\n",
              "      <td>False</td>\n",
              "    </tr>\n",
              "    <tr>\n",
              "      <th>1</th>\n",
              "      <td>37</td>\n",
              "      <td>0</td>\n",
              "      <td>75</td>\n",
              "      <td>51</td>\n",
              "      <td>3</td>\n",
              "      <td>1</td>\n",
              "      <td>72.54</td>\n",
              "      <td>2</td>\n",
              "      <td>South Africa</td>\n",
              "      <td>Hamilton</td>\n",
              "      <td>1995-02-18</td>\n",
              "      <td>South Africa</td>\n",
              "      <td>False</td>\n",
              "      <td>False</td>\n",
              "    </tr>\n",
              "    <tr>\n",
              "      <th>2</th>\n",
              "      <td>47</td>\n",
              "      <td>0</td>\n",
              "      <td>65</td>\n",
              "      <td>40</td>\n",
              "      <td>7</td>\n",
              "      <td>0</td>\n",
              "      <td>117.50</td>\n",
              "      <td>2</td>\n",
              "      <td>Australia</td>\n",
              "      <td>Dunedin</td>\n",
              "      <td>1995-02-22</td>\n",
              "      <td>India</td>\n",
              "      <td>True</td>\n",
              "      <td>False</td>\n",
              "    </tr>\n",
              "    <tr>\n",
              "      <th>3</th>\n",
              "      <td>48</td>\n",
              "      <td>0</td>\n",
              "      <td>37</td>\n",
              "      <td>30</td>\n",
              "      <td>9</td>\n",
              "      <td>1</td>\n",
              "      <td>160.00</td>\n",
              "      <td>2</td>\n",
              "      <td>Bangladesh</td>\n",
              "      <td>Sharjah</td>\n",
              "      <td>1995-04-05</td>\n",
              "      <td>India</td>\n",
              "      <td>True</td>\n",
              "      <td>False</td>\n",
              "    </tr>\n",
              "    <tr>\n",
              "      <th>4</th>\n",
              "      <td>4</td>\n",
              "      <td>0</td>\n",
              "      <td>13</td>\n",
              "      <td>9</td>\n",
              "      <td>1</td>\n",
              "      <td>0</td>\n",
              "      <td>44.44</td>\n",
              "      <td>2</td>\n",
              "      <td>Pakistan</td>\n",
              "      <td>Sharjah</td>\n",
              "      <td>1995-04-07</td>\n",
              "      <td>Pakistan</td>\n",
              "      <td>False</td>\n",
              "      <td>False</td>\n",
              "    </tr>\n",
              "  </tbody>\n",
              "</table>\n",
              "</div>"
            ],
            "text/plain": [
              "   runs  NotOut mins  bf  fours  sixes      sr  Inns           Opp    Ground  \\\n",
              "0    13       0   30  15      3      0   86.66     1   New Zealand    Napier   \n",
              "1    37       0   75  51      3      1   72.54     2  South Africa  Hamilton   \n",
              "2    47       0   65  40      7      0  117.50     2     Australia   Dunedin   \n",
              "3    48       0   37  30      9      1  160.00     2    Bangladesh   Sharjah   \n",
              "4     4       0   13   9      1      0   44.44     2      Pakistan   Sharjah   \n",
              "\n",
              "         Date        Winner    Won  century  \n",
              "0  1995-02-16   New Zealand  False    False  \n",
              "1  1995-02-18  South Africa  False    False  \n",
              "2  1995-02-22         India   True    False  \n",
              "3  1995-04-05         India   True    False  \n",
              "4  1995-04-07      Pakistan  False    False  "
            ]
          },
          "execution_count": 3,
          "metadata": {},
          "output_type": "execute_result"
        }
      ],
      "source": [
        "df.head()"
      ]
    },
    {
      "cell_type": "code",
      "execution_count": null,
      "id": "5f3182be",
      "metadata": {
        "id": "5f3182be"
      },
      "outputs": [],
      "source": [
        "df[\"year\"] = pd.DatetimeIndex(df['Date']).year"
      ]
    },
    {
      "cell_type": "code",
      "execution_count": null,
      "id": "134b4be9",
      "metadata": {
        "id": "134b4be9",
        "outputId": "4d6e8547-1010-4569-bb81-c8ddcb0b6bbe"
      },
      "outputs": [
        {
          "data": {
            "text/html": [
              "<div>\n",
              "<style scoped>\n",
              "    .dataframe tbody tr th:only-of-type {\n",
              "        vertical-align: middle;\n",
              "    }\n",
              "\n",
              "    .dataframe tbody tr th {\n",
              "        vertical-align: top;\n",
              "    }\n",
              "\n",
              "    .dataframe thead th {\n",
              "        text-align: right;\n",
              "    }\n",
              "</style>\n",
              "<table border=\"1\" class=\"dataframe\">\n",
              "  <thead>\n",
              "    <tr style=\"text-align: right;\">\n",
              "      <th></th>\n",
              "      <th>runs</th>\n",
              "      <th>NotOut</th>\n",
              "      <th>mins</th>\n",
              "      <th>bf</th>\n",
              "      <th>fours</th>\n",
              "      <th>sixes</th>\n",
              "      <th>sr</th>\n",
              "      <th>Inns</th>\n",
              "      <th>Opp</th>\n",
              "      <th>Ground</th>\n",
              "      <th>Date</th>\n",
              "      <th>Winner</th>\n",
              "      <th>Won</th>\n",
              "      <th>century</th>\n",
              "      <th>year</th>\n",
              "    </tr>\n",
              "  </thead>\n",
              "  <tbody>\n",
              "    <tr>\n",
              "      <th>0</th>\n",
              "      <td>13</td>\n",
              "      <td>0</td>\n",
              "      <td>30</td>\n",
              "      <td>15</td>\n",
              "      <td>3</td>\n",
              "      <td>0</td>\n",
              "      <td>86.66</td>\n",
              "      <td>1</td>\n",
              "      <td>New Zealand</td>\n",
              "      <td>Napier</td>\n",
              "      <td>1995-02-16</td>\n",
              "      <td>New Zealand</td>\n",
              "      <td>False</td>\n",
              "      <td>False</td>\n",
              "      <td>1995</td>\n",
              "    </tr>\n",
              "    <tr>\n",
              "      <th>1</th>\n",
              "      <td>37</td>\n",
              "      <td>0</td>\n",
              "      <td>75</td>\n",
              "      <td>51</td>\n",
              "      <td>3</td>\n",
              "      <td>1</td>\n",
              "      <td>72.54</td>\n",
              "      <td>2</td>\n",
              "      <td>South Africa</td>\n",
              "      <td>Hamilton</td>\n",
              "      <td>1995-02-18</td>\n",
              "      <td>South Africa</td>\n",
              "      <td>False</td>\n",
              "      <td>False</td>\n",
              "      <td>1995</td>\n",
              "    </tr>\n",
              "    <tr>\n",
              "      <th>2</th>\n",
              "      <td>47</td>\n",
              "      <td>0</td>\n",
              "      <td>65</td>\n",
              "      <td>40</td>\n",
              "      <td>7</td>\n",
              "      <td>0</td>\n",
              "      <td>117.50</td>\n",
              "      <td>2</td>\n",
              "      <td>Australia</td>\n",
              "      <td>Dunedin</td>\n",
              "      <td>1995-02-22</td>\n",
              "      <td>India</td>\n",
              "      <td>True</td>\n",
              "      <td>False</td>\n",
              "      <td>1995</td>\n",
              "    </tr>\n",
              "    <tr>\n",
              "      <th>3</th>\n",
              "      <td>48</td>\n",
              "      <td>0</td>\n",
              "      <td>37</td>\n",
              "      <td>30</td>\n",
              "      <td>9</td>\n",
              "      <td>1</td>\n",
              "      <td>160.00</td>\n",
              "      <td>2</td>\n",
              "      <td>Bangladesh</td>\n",
              "      <td>Sharjah</td>\n",
              "      <td>1995-04-05</td>\n",
              "      <td>India</td>\n",
              "      <td>True</td>\n",
              "      <td>False</td>\n",
              "      <td>1995</td>\n",
              "    </tr>\n",
              "    <tr>\n",
              "      <th>4</th>\n",
              "      <td>4</td>\n",
              "      <td>0</td>\n",
              "      <td>13</td>\n",
              "      <td>9</td>\n",
              "      <td>1</td>\n",
              "      <td>0</td>\n",
              "      <td>44.44</td>\n",
              "      <td>2</td>\n",
              "      <td>Pakistan</td>\n",
              "      <td>Sharjah</td>\n",
              "      <td>1995-04-07</td>\n",
              "      <td>Pakistan</td>\n",
              "      <td>False</td>\n",
              "      <td>False</td>\n",
              "      <td>1995</td>\n",
              "    </tr>\n",
              "  </tbody>\n",
              "</table>\n",
              "</div>"
            ],
            "text/plain": [
              "   runs  NotOut mins  bf  fours  sixes      sr  Inns           Opp    Ground  \\\n",
              "0    13       0   30  15      3      0   86.66     1   New Zealand    Napier   \n",
              "1    37       0   75  51      3      1   72.54     2  South Africa  Hamilton   \n",
              "2    47       0   65  40      7      0  117.50     2     Australia   Dunedin   \n",
              "3    48       0   37  30      9      1  160.00     2    Bangladesh   Sharjah   \n",
              "4     4       0   13   9      1      0   44.44     2      Pakistan   Sharjah   \n",
              "\n",
              "         Date        Winner    Won  century  year  \n",
              "0  1995-02-16   New Zealand  False    False  1995  \n",
              "1  1995-02-18  South Africa  False    False  1995  \n",
              "2  1995-02-22         India   True    False  1995  \n",
              "3  1995-04-05         India   True    False  1995  \n",
              "4  1995-04-07      Pakistan  False    False  1995  "
            ]
          },
          "execution_count": 5,
          "metadata": {},
          "output_type": "execute_result"
        }
      ],
      "source": [
        "df.head()"
      ]
    },
    {
      "cell_type": "code",
      "execution_count": null,
      "id": "e8fa7293",
      "metadata": {
        "id": "e8fa7293",
        "outputId": "d2a8d462-4eba-49d0-fd73-c0428941e88f"
      },
      "outputs": [
        {
          "data": {
            "text/plain": [
              "2    190\n",
              "1    170\n",
              "Name: Inns, dtype: int64"
            ]
          },
          "execution_count": 6,
          "metadata": {},
          "output_type": "execute_result"
        }
      ],
      "source": [
        "df[\"Inns\"].value_counts()"
      ]
    },
    {
      "cell_type": "markdown",
      "id": "8d20b512",
      "metadata": {
        "heading_collapsed": true,
        "id": "8d20b512"
      },
      "source": [
        "## First Vs Second innings"
      ]
    },
    {
      "cell_type": "code",
      "execution_count": null,
      "id": "3b6110b0",
      "metadata": {
        "hidden": true,
        "id": "3b6110b0",
        "outputId": "d23af3f3-bb5c-4aec-bf54-60b35b8a11af"
      },
      "outputs": [
        {
          "data": {
            "text/plain": [
              "Inns\n",
              "1    46.670588\n",
              "2    40.173684\n",
              "Name: runs, dtype: float64"
            ]
          },
          "execution_count": 7,
          "metadata": {},
          "output_type": "execute_result"
        }
      ],
      "source": [
        "df.groupby([\"Inns\"])[\"runs\"].mean()"
      ]
    },
    {
      "cell_type": "code",
      "execution_count": null,
      "id": "df0670c2",
      "metadata": {
        "hidden": true,
        "id": "df0670c2"
      },
      "outputs": [],
      "source": [
        "df_first_innings = df[df[\"Inns\"]==1]\n",
        "df_second_innings = df[df[\"Inns\"]==2]"
      ]
    },
    {
      "cell_type": "code",
      "execution_count": null,
      "id": "c654b9c4",
      "metadata": {
        "hidden": true,
        "id": "c654b9c4",
        "outputId": "0c8d7b7b-7215-453a-a62e-cbac5e53e237"
      },
      "outputs": [
        {
          "data": {
            "text/plain": [
              "Ttest_indResult(statistic=1.4612016295532178, pvalue=0.14483724194759962)"
            ]
          },
          "execution_count": 9,
          "metadata": {},
          "output_type": "execute_result"
        }
      ],
      "source": [
        "# H0: scoring pattern across these two are the same\n",
        "ttest_ind(df_first_innings[\"runs\"], df_second_innings[\"runs\"])\n",
        "# Fail to reject: they are the same"
      ]
    },
    {
      "cell_type": "code",
      "execution_count": null,
      "id": "f8b1ef13",
      "metadata": {
        "hidden": true,
        "id": "f8b1ef13",
        "outputId": "9e93fa1c-56a4-4fe9-ac91-543a097b4f1d"
      },
      "outputs": [
        {
          "data": {
            "text/plain": [
              "F_onewayResult(statistic=2.1351102022089794, pvalue=0.1448372419476105)"
            ]
          },
          "execution_count": 10,
          "metadata": {},
          "output_type": "execute_result"
        }
      ],
      "source": [
        "# H0: scoring pattern across these two are the same\n",
        "f_oneway(df_first_innings[\"runs\"], df_second_innings[\"runs\"])\n",
        "# Fail to reject: they are the same"
      ]
    },
    {
      "cell_type": "markdown",
      "id": "c76d9037",
      "metadata": {
        "id": "c76d9037"
      },
      "source": [
        "In anova lot of assumptionslike gausian, independence, have same variance so kruskal take rank of whole data."
      ]
    },
    {
      "cell_type": "code",
      "execution_count": null,
      "id": "ec650a8a",
      "metadata": {
        "hidden": true,
        "id": "ec650a8a",
        "outputId": "78e059b9-9366-44b5-cb9f-2358734450d8"
      },
      "outputs": [
        {
          "data": {
            "text/plain": [
              "KruskalResult(statistic=0.9696787893311016, pvalue=0.32476030097031194)"
            ]
          },
          "execution_count": 11,
          "metadata": {},
          "output_type": "execute_result"
        }
      ],
      "source": [
        "# H0: scoring pattern across these two are the same\n",
        "kruskal(df_first_innings[\"runs\"], df_second_innings[\"runs\"])\n",
        "# Fail to reject: they are the same\n",
        "# Kruskal when ANOVA assumptions don't hold"
      ]
    },
    {
      "cell_type": "code",
      "execution_count": null,
      "id": "e8588d42",
      "metadata": {
        "hidden": true,
        "id": "e8588d42",
        "outputId": "e6ac8f2a-fc1b-4f7e-9e44-31078ad85cb3"
      },
      "outputs": [
        {
          "data": {
            "image/png": "[encoded data removed]",
            "text/plain": [
              "<Figure size 432x288 with 1 Axes>"
            ]
          },
          "metadata": {
            "needs_background": "light"
          },
          "output_type": "display_data"
        }
      ],
      "source": [
        "# Quantile-Quantile plot\n",
        "qqplot_2samples(df_first_innings[\"runs\"], df_second_innings[\"runs\"], line=\"r\")\n",
        "plt.show()"
      ]
    },
    {
      "cell_type": "code",
      "execution_count": null,
      "id": "b2d491b8",
      "metadata": {
        "hidden": true,
        "id": "b2d491b8"
      },
      "outputs": [],
      "source": [
        "# emperical CDF\n",
        "e1 = ECDF(df_first_innings[\"runs\"])\n",
        "e2 = ECDF(df_second_innings[\"runs\"])"
      ]
    },
    {
      "cell_type": "code",
      "execution_count": null,
      "id": "56c424d6",
      "metadata": {
        "hidden": true,
        "id": "56c424d6",
        "outputId": "40272f2a-4285-4a3b-db6c-4493dae1baae"
      },
      "outputs": [
        {
          "data": {
            "text/plain": [
              "[<matplotlib.lines.Line2D at 0x7fa6eb852640>]"
            ]
          },
          "execution_count": 79,
          "metadata": {},
          "output_type": "execute_result"
        },
        {
          "data": {
            "image/png": "[encoded data removed]",
            "text/plain": [
              "<Figure size 432x288 with 1 Axes>"
            ]
          },
          "metadata": {
            "needs_background": "light"
          },
          "output_type": "display_data"
        }
      ],
      "source": [
        "plt.plot(e1.x, e1.y, c='b')\n",
        "plt.plot(e2.x, e2.y, c='r')"
      ]
    },
    {
      "cell_type": "code",
      "execution_count": null,
      "id": "e77080f4",
      "metadata": {
        "hidden": true,
        "id": "e77080f4",
        "outputId": "f6f87e95-7079-4c0d-9779-fa9226da06dd"
      },
      "outputs": [
        {
          "data": {
            "text/plain": [
              "KstestResult(statistic=0.10990712074303406, pvalue=0.2086874783173226)"
            ]
          },
          "execution_count": 80,
          "metadata": {},
          "output_type": "execute_result"
        }
      ],
      "source": [
        "# H0: two samples come from same distribution\n",
        "kstest(df_first_innings[\"runs\"], df_second_innings[\"runs\"])\n",
        "# Fail to reject"
      ]
    },
    {
      "cell_type": "markdown",
      "id": "26b35a8f",
      "metadata": {
        "id": "26b35a8f"
      },
      "source": [
        "What about if there is differance of std dev.. there mean could be same then use levleen test"
      ]
    },
    {
      "cell_type": "code",
      "execution_count": null,
      "id": "44842b1e",
      "metadata": {
        "hidden": true,
        "id": "44842b1e",
        "outputId": "9ef446e3-c4ef-4417-d33f-8dd0edd3d4ce"
      },
      "outputs": [
        {
          "data": {
            "text/plain": [
              "Inns\n",
              "1    45.929941\n",
              "2    38.385904\n",
              "Name: runs, dtype: float64"
            ]
          },
          "execution_count": 81,
          "metadata": {},
          "output_type": "execute_result"
        }
      ],
      "source": [
        "df.groupby([\"Inns\"])[\"runs\"].std()"
      ]
    },
    {
      "cell_type": "code",
      "execution_count": null,
      "id": "b34eab48",
      "metadata": {
        "hidden": true,
        "id": "b34eab48",
        "outputId": "bdddf75b-6d24-4462-cfbf-455731cbe56e"
      },
      "outputs": [
        {
          "data": {
            "text/plain": [
              "LeveneResult(statistic=2.538030840814755, pvalue=0.11201580263415106)"
            ]
          },
          "execution_count": 82,
          "metadata": {},
          "output_type": "execute_result"
        }
      ],
      "source": [
        "levene(df_first_innings[\"runs\"], df_second_innings[\"runs\"])"
      ]
    },
    {
      "cell_type": "markdown",
      "id": "62e2a3c2",
      "metadata": {
        "heading_collapsed": true,
        "id": "62e2a3c2"
      },
      "source": [
        "## Won VS Lost"
      ]
    },
    {
      "cell_type": "code",
      "execution_count": null,
      "id": "74cf9fc7",
      "metadata": {
        "hidden": true,
        "id": "74cf9fc7",
        "outputId": "86c5c513-82f7-47d9-f32a-d5c6cc97f74c"
      },
      "outputs": [
        {
          "data": {
            "text/plain": [
              "Won\n",
              "False    35.130682\n",
              "True     51.000000\n",
              "Name: runs, dtype: float64"
            ]
          },
          "execution_count": 83,
          "metadata": {},
          "output_type": "execute_result"
        }
      ],
      "source": [
        "df.groupby([\"Won\"])[\"runs\"].mean()"
      ]
    },
    {
      "cell_type": "code",
      "execution_count": null,
      "id": "61e3ec13",
      "metadata": {
        "hidden": true,
        "id": "61e3ec13"
      },
      "outputs": [],
      "source": [
        "df_won = df[df[\"Won\"]==True]\n",
        "df_lost = df[df[\"Won\"]==False]"
      ]
    },
    {
      "cell_type": "code",
      "execution_count": null,
      "id": "c307c7eb",
      "metadata": {
        "hidden": true,
        "id": "c307c7eb",
        "outputId": "feae95fb-5ea6-4d7d-cd1d-d257b696ff2b"
      },
      "outputs": [
        {
          "data": {
            "text/plain": [
              "Ttest_indResult(statistic=3.628068563969343, pvalue=0.00032706154973653116)"
            ]
          },
          "execution_count": 85,
          "metadata": {},
          "output_type": "execute_result"
        }
      ],
      "source": [
        "ttest_ind(df_won[\"runs\"], df_lost[\"runs\"])"
      ]
    },
    {
      "cell_type": "code",
      "execution_count": null,
      "id": "bf6823a5",
      "metadata": {
        "hidden": true,
        "id": "bf6823a5",
        "outputId": "d5c9758a-338b-431a-9653-148117889762"
      },
      "outputs": [
        {
          "data": {
            "image/png": "[encoded data removed]",
            "text/plain": [
              "<Figure size 432x288 with 1 Axes>"
            ]
          },
          "metadata": {
            "needs_background": "light"
          },
          "output_type": "display_data"
        }
      ],
      "source": [
        "qqplot_2samples(df_won[\"runs\"], df_lost[\"runs\"], line=\"r\")\n",
        "plt.show()\n",
        "# There is significant difference here"
      ]
    },
    {
      "cell_type": "code",
      "execution_count": null,
      "id": "1df4617b",
      "metadata": {
        "hidden": true,
        "id": "1df4617b"
      },
      "outputs": [],
      "source": [
        "e1 = ECDF(df_won[\"runs\"])\n",
        "e2 = ECDF(df_lost[\"runs\"])"
      ]
    },
    {
      "cell_type": "code",
      "execution_count": null,
      "id": "3089c622",
      "metadata": {
        "hidden": true,
        "id": "3089c622",
        "outputId": "d8ea230f-eba8-4a3b-de30-ae6207ab16f4"
      },
      "outputs": [
        {
          "data": {
            "text/plain": [
              "[<matplotlib.lines.Line2D at 0x7fa719283970>]"
            ]
          },
          "execution_count": 88,
          "metadata": {},
          "output_type": "execute_result"
        },
        {
          "data": {
            "image/png": "[encoded data removed]",
            "text/plain": [
              "<Figure size 432x288 with 1 Axes>"
            ]
          },
          "metadata": {
            "needs_background": "light"
          },
          "output_type": "display_data"
        }
      ],
      "source": [
        "plt.plot(e1.x, e1.y)\n",
        "plt.plot(e2.x, e2.y)"
      ]
    },
    {
      "cell_type": "code",
      "execution_count": null,
      "id": "c0f6ed86",
      "metadata": {
        "hidden": true,
        "id": "c0f6ed86",
        "outputId": "6ab0b76e-6c18-4e8e-d5da-94f62f6d0d63"
      },
      "outputs": [
        {
          "data": {
            "text/plain": [
              "KstestResult(statistic=0.20602766798418973, pvalue=0.0007769531141107455)"
            ]
          },
          "execution_count": 89,
          "metadata": {},
          "output_type": "execute_result"
        }
      ],
      "source": [
        "kstest(df_won[\"runs\"], df_lost[\"runs\"])"
      ]
    },
    {
      "cell_type": "code",
      "execution_count": null,
      "id": "2ccf9752",
      "metadata": {
        "hidden": true,
        "id": "2ccf9752",
        "outputId": "6ab088e9-7802-4c3a-a8bd-660c21b212f3"
      },
      "outputs": [
        {
          "data": {
            "text/plain": [
              "Ttest_indResult(statistic=4.371696689454384, pvalue=1.617983724969071e-05)"
            ]
          },
          "execution_count": 90,
          "metadata": {},
          "output_type": "execute_result"
        }
      ],
      "source": [
        "# Fours\n",
        "ttest_ind(df_won[\"fours\"], df_lost[\"fours\"])"
      ]
    },
    {
      "cell_type": "code",
      "execution_count": null,
      "id": "8de26361",
      "metadata": {
        "hidden": true,
        "id": "8de26361",
        "outputId": "55786620-3922-4a7e-fa77-ead8ed2f96c9"
      },
      "outputs": [
        {
          "data": {
            "text/plain": [
              "Ttest_indResult(statistic=1.2103124491248893, pvalue=0.2269575135521876)"
            ]
          },
          "execution_count": 91,
          "metadata": {},
          "output_type": "execute_result"
        }
      ],
      "source": [
        "# Sixes\n",
        "ttest_ind(df_won[\"sixes\"], df_lost[\"sixes\"])"
      ]
    },
    {
      "cell_type": "markdown",
      "id": "6e9069f3",
      "metadata": {
        "heading_collapsed": true,
        "id": "6e9069f3"
      },
      "source": [
        "## Century Vs No century"
      ]
    },
    {
      "cell_type": "code",
      "execution_count": null,
      "id": "ca8cbab3",
      "metadata": {
        "hidden": true,
        "id": "ca8cbab3",
        "outputId": "f8946b5a-aacc-42d1-e76b-daefebdacd89"
      },
      "outputs": [
        {
          "data": {
            "text/plain": [
              "century\n",
              "False     31.130573\n",
              "True     125.913043\n",
              "Name: runs, dtype: float64"
            ]
          },
          "execution_count": 92,
          "metadata": {},
          "output_type": "execute_result"
        }
      ],
      "source": [
        "df.groupby([\"century\"])[\"runs\"].mean()"
      ]
    },
    {
      "cell_type": "code",
      "execution_count": null,
      "id": "db25f444",
      "metadata": {
        "hidden": true,
        "id": "db25f444"
      },
      "outputs": [],
      "source": [
        "df_century = df[df[\"century\"]==True]\n",
        "df_no_century = df[df[\"century\"]==False]"
      ]
    },
    {
      "cell_type": "code",
      "execution_count": null,
      "id": "8f2a9505",
      "metadata": {
        "hidden": true,
        "id": "8f2a9505",
        "outputId": "591bef6f-53ef-4ad4-8636-41c027abfb1f"
      },
      "outputs": [
        {
          "data": {
            "text/plain": [
              "Ttest_indResult(statistic=21.531368860785147, pvalue=1.4753208832764427e-66)"
            ]
          },
          "execution_count": 94,
          "metadata": {},
          "output_type": "execute_result"
        }
      ],
      "source": [
        "ttest_ind(df_century[\"runs\"], df_no_century[\"runs\"])"
      ]
    },
    {
      "cell_type": "markdown",
      "id": "03bc720a",
      "metadata": {
        "heading_collapsed": true,
        "id": "03bc720a"
      },
      "source": [
        "## Won Vs Century"
      ]
    },
    {
      "cell_type": "code",
      "execution_count": null,
      "id": "3e1baad6",
      "metadata": {
        "hidden": true,
        "id": "3e1baad6",
        "outputId": "4234e028-c3b1-40a2-cd26-ed5301c53d1e"
      },
      "outputs": [
        {
          "data": {
            "text/html": [
              "<div>\n",
              "<style scoped>\n",
              "    .dataframe tbody tr th:only-of-type {\n",
              "        vertical-align: middle;\n",
              "    }\n",
              "\n",
              "    .dataframe tbody tr th {\n",
              "        vertical-align: top;\n",
              "    }\n",
              "\n",
              "    .dataframe thead th {\n",
              "        text-align: right;\n",
              "    }\n",
              "</style>\n",
              "<table border=\"1\" class=\"dataframe\">\n",
              "  <thead>\n",
              "    <tr style=\"text-align: right;\">\n",
              "      <th>century</th>\n",
              "      <th>False</th>\n",
              "      <th>True</th>\n",
              "    </tr>\n",
              "    <tr>\n",
              "      <th>Won</th>\n",
              "      <th></th>\n",
              "      <th></th>\n",
              "    </tr>\n",
              "  </thead>\n",
              "  <tbody>\n",
              "    <tr>\n",
              "      <th>False</th>\n",
              "      <td>160</td>\n",
              "      <td>16</td>\n",
              "    </tr>\n",
              "    <tr>\n",
              "      <th>True</th>\n",
              "      <td>154</td>\n",
              "      <td>30</td>\n",
              "    </tr>\n",
              "  </tbody>\n",
              "</table>\n",
              "</div>"
            ],
            "text/plain": [
              "century  False  True\n",
              "Won                 \n",
              "False      160    16\n",
              "True       154    30"
            ]
          },
          "execution_count": 95,
          "metadata": {},
          "output_type": "execute_result"
        }
      ],
      "source": [
        "df_won_and_century = pd.crosstab(df[\"Won\"], df[\"century\"])\n",
        "df_won_and_century"
      ]
    },
    {
      "cell_type": "code",
      "execution_count": null,
      "id": "e3d0c910",
      "metadata": {
        "hidden": true,
        "id": "e3d0c910",
        "outputId": "f7ded4f1-9be5-4d84-cc41-0715898ae822"
      },
      "outputs": [
        {
          "data": {
            "text/plain": [
              "(3.5775197765282374,\n",
              " 0.05856653223833202,\n",
              " 1,\n",
              " array([[153.51111111,  22.48888889],\n",
              "        [160.48888889,  23.51111111]]))"
            ]
          },
          "execution_count": 96,
          "metadata": {},
          "output_type": "execute_result"
        }
      ],
      "source": [
        "chi2_contingency(df_won_and_century)"
      ]
    },
    {
      "cell_type": "markdown",
      "id": "5ad8945e",
      "metadata": {
        "heading_collapsed": true,
        "id": "5ad8945e"
      },
      "source": [
        "## Out of form in any year"
      ]
    },
    {
      "cell_type": "code",
      "execution_count": null,
      "id": "a7ec0fde",
      "metadata": {
        "hidden": true,
        "id": "a7ec0fde",
        "outputId": "86986899-6c65-4baa-aa7b-251073ef1c76"
      },
      "outputs": [
        {
          "data": {
            "text/plain": [
              "43.24166666666667"
            ]
          },
          "execution_count": 97,
          "metadata": {},
          "output_type": "execute_result"
        }
      ],
      "source": [
        "df[\"runs\"].mean()"
      ]
    },
    {
      "cell_type": "code",
      "execution_count": null,
      "id": "9b8fcbf0",
      "metadata": {
        "hidden": true,
        "id": "9b8fcbf0",
        "outputId": "63659285-edc4-4c2a-d8cc-f6f17fdfcadf"
      },
      "outputs": [
        {
          "data": {
            "text/html": [
              "<div>\n",
              "<style scoped>\n",
              "    .dataframe tbody tr th:only-of-type {\n",
              "        vertical-align: middle;\n",
              "    }\n",
              "\n",
              "    .dataframe tbody tr th {\n",
              "        vertical-align: top;\n",
              "    }\n",
              "\n",
              "    .dataframe thead tr th {\n",
              "        text-align: left;\n",
              "    }\n",
              "\n",
              "    .dataframe thead tr:last-of-type th {\n",
              "        text-align: right;\n",
              "    }\n",
              "</style>\n",
              "<table border=\"1\" class=\"dataframe\">\n",
              "  <thead>\n",
              "    <tr>\n",
              "      <th></th>\n",
              "      <th colspan=\"2\" halign=\"left\">runs</th>\n",
              "    </tr>\n",
              "    <tr>\n",
              "      <th></th>\n",
              "      <th>mean</th>\n",
              "      <th>count</th>\n",
              "    </tr>\n",
              "    <tr>\n",
              "      <th>year</th>\n",
              "      <th></th>\n",
              "      <th></th>\n",
              "    </tr>\n",
              "  </thead>\n",
              "  <tbody>\n",
              "    <tr>\n",
              "      <th>1995</th>\n",
              "      <td>37.000000</td>\n",
              "      <td>12</td>\n",
              "    </tr>\n",
              "    <tr>\n",
              "      <th>1996</th>\n",
              "      <td>52.666667</td>\n",
              "      <td>30</td>\n",
              "    </tr>\n",
              "    <tr>\n",
              "      <th>1997</th>\n",
              "      <td>28.083333</td>\n",
              "      <td>36</td>\n",
              "    </tr>\n",
              "    <tr>\n",
              "      <th>1998</th>\n",
              "      <td>57.393939</td>\n",
              "      <td>33</td>\n",
              "    </tr>\n",
              "    <tr>\n",
              "      <th>1999</th>\n",
              "      <td>39.095238</td>\n",
              "      <td>21</td>\n",
              "    </tr>\n",
              "    <tr>\n",
              "      <th>2000</th>\n",
              "      <td>39.151515</td>\n",
              "      <td>33</td>\n",
              "    </tr>\n",
              "    <tr>\n",
              "      <th>2001</th>\n",
              "      <td>56.500000</td>\n",
              "      <td>16</td>\n",
              "    </tr>\n",
              "    <tr>\n",
              "      <th>2002</th>\n",
              "      <td>39.000000</td>\n",
              "      <td>19</td>\n",
              "    </tr>\n",
              "    <tr>\n",
              "      <th>2003</th>\n",
              "      <td>54.333333</td>\n",
              "      <td>21</td>\n",
              "    </tr>\n",
              "    <tr>\n",
              "      <th>2004</th>\n",
              "      <td>38.666667</td>\n",
              "      <td>21</td>\n",
              "    </tr>\n",
              "    <tr>\n",
              "      <th>2005</th>\n",
              "      <td>25.750000</td>\n",
              "      <td>16</td>\n",
              "    </tr>\n",
              "    <tr>\n",
              "      <th>2006</th>\n",
              "      <td>41.733333</td>\n",
              "      <td>15</td>\n",
              "    </tr>\n",
              "    <tr>\n",
              "      <th>2007</th>\n",
              "      <td>44.531250</td>\n",
              "      <td>32</td>\n",
              "    </tr>\n",
              "    <tr>\n",
              "      <th>2008</th>\n",
              "      <td>38.333333</td>\n",
              "      <td>12</td>\n",
              "    </tr>\n",
              "    <tr>\n",
              "      <th>2009</th>\n",
              "      <td>48.600000</td>\n",
              "      <td>20</td>\n",
              "    </tr>\n",
              "    <tr>\n",
              "      <th>2010</th>\n",
              "      <td>102.000000</td>\n",
              "      <td>2</td>\n",
              "    </tr>\n",
              "    <tr>\n",
              "      <th>2011</th>\n",
              "      <td>46.636364</td>\n",
              "      <td>11</td>\n",
              "    </tr>\n",
              "    <tr>\n",
              "      <th>2012</th>\n",
              "      <td>31.500000</td>\n",
              "      <td>10</td>\n",
              "    </tr>\n",
              "  </tbody>\n",
              "</table>\n",
              "</div>"
            ],
            "text/plain": [
              "            runs      \n",
              "            mean count\n",
              "year                  \n",
              "1995   37.000000    12\n",
              "1996   52.666667    30\n",
              "1997   28.083333    36\n",
              "1998   57.393939    33\n",
              "1999   39.095238    21\n",
              "2000   39.151515    33\n",
              "2001   56.500000    16\n",
              "2002   39.000000    19\n",
              "2003   54.333333    21\n",
              "2004   38.666667    21\n",
              "2005   25.750000    16\n",
              "2006   41.733333    15\n",
              "2007   44.531250    32\n",
              "2008   38.333333    12\n",
              "2009   48.600000    20\n",
              "2010  102.000000     2\n",
              "2011   46.636364    11\n",
              "2012   31.500000    10"
            ]
          },
          "execution_count": 98,
          "metadata": {},
          "output_type": "execute_result"
        }
      ],
      "source": [
        "df.groupby([\"year\"]).agg({\"runs\":[np.mean, \"count\"]})"
      ]
    },
    {
      "cell_type": "code",
      "execution_count": null,
      "id": "fd356fc6",
      "metadata": {
        "hidden": true,
        "id": "fd356fc6",
        "outputId": "d4aab167-ae3b-4ae2-fd16-ec3a36a15469"
      },
      "outputs": [
        {
          "name": "stdout",
          "output_type": "stream",
          "text": [
            "Sachin was out of form in  1997\n",
            "Sachin was out of form in  2005\n"
          ]
        }
      ],
      "source": [
        "for year in df[\"year\"].unique():\n",
        "    df_year = df[df[\"year\"]==year]\n",
        "    df_other_years = df[df[\"year\"]!=year]\n",
        "    t_stat, p_value = ttest_ind(df_year[\"runs\"], df_other_years[\"runs\"], alternative=\"less\") # for peak form do \"greater\"\n",
        "    if p_value < 0.05:\n",
        "        print(\"Sachin was out of form in \", year)"
      ]
    },
    {
      "cell_type": "markdown",
      "id": "de46f6bf",
      "metadata": {
        "heading_collapsed": true,
        "id": "de46f6bf"
      },
      "source": [
        "## Wins across teams"
      ]
    },
    {
      "cell_type": "code",
      "execution_count": null,
      "id": "d7640ce4",
      "metadata": {
        "hidden": true,
        "id": "d7640ce4",
        "outputId": "d53dba7f-4a88-44a8-900b-4fc6f9a8a8d0"
      },
      "outputs": [
        {
          "data": {
            "text/html": [
              "<div>\n",
              "<style scoped>\n",
              "    .dataframe tbody tr th:only-of-type {\n",
              "        vertical-align: middle;\n",
              "    }\n",
              "\n",
              "    .dataframe tbody tr th {\n",
              "        vertical-align: top;\n",
              "    }\n",
              "\n",
              "    .dataframe thead tr th {\n",
              "        text-align: left;\n",
              "    }\n",
              "\n",
              "    .dataframe thead tr:last-of-type th {\n",
              "        text-align: right;\n",
              "    }\n",
              "</style>\n",
              "<table border=\"1\" class=\"dataframe\">\n",
              "  <thead>\n",
              "    <tr>\n",
              "      <th></th>\n",
              "      <th colspan=\"2\" halign=\"left\">runs</th>\n",
              "    </tr>\n",
              "    <tr>\n",
              "      <th></th>\n",
              "      <th>mean</th>\n",
              "      <th>count</th>\n",
              "    </tr>\n",
              "    <tr>\n",
              "      <th>Opp</th>\n",
              "      <th></th>\n",
              "      <th></th>\n",
              "    </tr>\n",
              "  </thead>\n",
              "  <tbody>\n",
              "    <tr>\n",
              "      <th>Australia</th>\n",
              "      <td>44.786885</td>\n",
              "      <td>61</td>\n",
              "    </tr>\n",
              "    <tr>\n",
              "      <th>Bangladesh</th>\n",
              "      <td>46.000000</td>\n",
              "      <td>10</td>\n",
              "    </tr>\n",
              "    <tr>\n",
              "      <th>Bermuda</th>\n",
              "      <td>57.000000</td>\n",
              "      <td>1</td>\n",
              "    </tr>\n",
              "    <tr>\n",
              "      <th>England</th>\n",
              "      <td>46.720000</td>\n",
              "      <td>25</td>\n",
              "    </tr>\n",
              "    <tr>\n",
              "      <th>Ireland</th>\n",
              "      <td>21.000000</td>\n",
              "      <td>2</td>\n",
              "    </tr>\n",
              "    <tr>\n",
              "      <th>Kenya</th>\n",
              "      <td>71.888889</td>\n",
              "      <td>9</td>\n",
              "    </tr>\n",
              "    <tr>\n",
              "      <th>Namibia</th>\n",
              "      <td>152.000000</td>\n",
              "      <td>1</td>\n",
              "    </tr>\n",
              "    <tr>\n",
              "      <th>Netherlands</th>\n",
              "      <td>39.500000</td>\n",
              "      <td>2</td>\n",
              "    </tr>\n",
              "    <tr>\n",
              "      <th>New Zealand</th>\n",
              "      <td>39.156250</td>\n",
              "      <td>32</td>\n",
              "    </tr>\n",
              "    <tr>\n",
              "      <th>Pakistan</th>\n",
              "      <td>38.203390</td>\n",
              "      <td>59</td>\n",
              "    </tr>\n",
              "    <tr>\n",
              "      <th>South Africa</th>\n",
              "      <td>39.954545</td>\n",
              "      <td>44</td>\n",
              "    </tr>\n",
              "    <tr>\n",
              "      <th>Sri Lanka</th>\n",
              "      <td>43.761905</td>\n",
              "      <td>63</td>\n",
              "    </tr>\n",
              "    <tr>\n",
              "      <th>U.A.E.</th>\n",
              "      <td>18.000000</td>\n",
              "      <td>1</td>\n",
              "    </tr>\n",
              "    <tr>\n",
              "      <th>West Indies</th>\n",
              "      <td>44.000000</td>\n",
              "      <td>22</td>\n",
              "    </tr>\n",
              "    <tr>\n",
              "      <th>Zimbabwe</th>\n",
              "      <td>43.642857</td>\n",
              "      <td>28</td>\n",
              "    </tr>\n",
              "  </tbody>\n",
              "</table>\n",
              "</div>"
            ],
            "text/plain": [
              "                    runs      \n",
              "                    mean count\n",
              "Opp                           \n",
              "Australia      44.786885    61\n",
              "Bangladesh     46.000000    10\n",
              "Bermuda        57.000000     1\n",
              "England        46.720000    25\n",
              "Ireland        21.000000     2\n",
              "Kenya          71.888889     9\n",
              "Namibia       152.000000     1\n",
              "Netherlands    39.500000     2\n",
              "New Zealand    39.156250    32\n",
              "Pakistan       38.203390    59\n",
              "South Africa   39.954545    44\n",
              "Sri Lanka      43.761905    63\n",
              "U.A.E.         18.000000     1\n",
              "West Indies    44.000000    22\n",
              "Zimbabwe       43.642857    28"
            ]
          },
          "execution_count": 100,
          "metadata": {},
          "output_type": "execute_result"
        }
      ],
      "source": [
        "df.groupby([\"Opp\"]).agg({\"runs\":[np.mean, \"count\"]})"
      ]
    },
    {
      "cell_type": "code",
      "execution_count": null,
      "id": "9decd9bf",
      "metadata": {
        "hidden": true,
        "id": "9decd9bf"
      },
      "outputs": [],
      "source": [
        "df_opp = df.groupby('Opp').filter(lambda x : len(x) > 5)[[\"Opp\", \"runs\", \"Won\"]]"
      ]
    },
    {
      "cell_type": "code",
      "execution_count": null,
      "id": "b2ba454f",
      "metadata": {
        "hidden": true,
        "id": "b2ba454f",
        "outputId": "e7bf54c4-bbb7-4a24-d4e0-1104d5557a9c"
      },
      "outputs": [
        {
          "data": {
            "text/html": [
              "<div>\n",
              "<style scoped>\n",
              "    .dataframe tbody tr th:only-of-type {\n",
              "        vertical-align: middle;\n",
              "    }\n",
              "\n",
              "    .dataframe tbody tr th {\n",
              "        vertical-align: top;\n",
              "    }\n",
              "\n",
              "    .dataframe thead th {\n",
              "        text-align: right;\n",
              "    }\n",
              "</style>\n",
              "<table border=\"1\" class=\"dataframe\">\n",
              "  <thead>\n",
              "    <tr style=\"text-align: right;\">\n",
              "      <th></th>\n",
              "      <th>Opp</th>\n",
              "      <th>runs</th>\n",
              "      <th>Won</th>\n",
              "    </tr>\n",
              "  </thead>\n",
              "  <tbody>\n",
              "    <tr>\n",
              "      <th>0</th>\n",
              "      <td>New Zealand</td>\n",
              "      <td>13</td>\n",
              "      <td>False</td>\n",
              "    </tr>\n",
              "    <tr>\n",
              "      <th>1</th>\n",
              "      <td>South Africa</td>\n",
              "      <td>37</td>\n",
              "      <td>False</td>\n",
              "    </tr>\n",
              "    <tr>\n",
              "      <th>2</th>\n",
              "      <td>Australia</td>\n",
              "      <td>47</td>\n",
              "      <td>True</td>\n",
              "    </tr>\n",
              "    <tr>\n",
              "      <th>3</th>\n",
              "      <td>Bangladesh</td>\n",
              "      <td>48</td>\n",
              "      <td>True</td>\n",
              "    </tr>\n",
              "    <tr>\n",
              "      <th>4</th>\n",
              "      <td>Pakistan</td>\n",
              "      <td>4</td>\n",
              "      <td>False</td>\n",
              "    </tr>\n",
              "    <tr>\n",
              "      <th>...</th>\n",
              "      <td>...</td>\n",
              "      <td>...</td>\n",
              "      <td>...</td>\n",
              "    </tr>\n",
              "    <tr>\n",
              "      <th>355</th>\n",
              "      <td>Australia</td>\n",
              "      <td>14</td>\n",
              "      <td>False</td>\n",
              "    </tr>\n",
              "    <tr>\n",
              "      <th>356</th>\n",
              "      <td>Sri Lanka</td>\n",
              "      <td>39</td>\n",
              "      <td>True</td>\n",
              "    </tr>\n",
              "    <tr>\n",
              "      <th>357</th>\n",
              "      <td>Sri Lanka</td>\n",
              "      <td>6</td>\n",
              "      <td>True</td>\n",
              "    </tr>\n",
              "    <tr>\n",
              "      <th>358</th>\n",
              "      <td>Bangladesh</td>\n",
              "      <td>114</td>\n",
              "      <td>False</td>\n",
              "    </tr>\n",
              "    <tr>\n",
              "      <th>359</th>\n",
              "      <td>Pakistan</td>\n",
              "      <td>52</td>\n",
              "      <td>True</td>\n",
              "    </tr>\n",
              "  </tbody>\n",
              "</table>\n",
              "<p>353 rows × 3 columns</p>\n",
              "</div>"
            ],
            "text/plain": [
              "              Opp  runs    Won\n",
              "0     New Zealand    13  False\n",
              "1    South Africa    37  False\n",
              "2       Australia    47   True\n",
              "3      Bangladesh    48   True\n",
              "4        Pakistan     4  False\n",
              "..            ...   ...    ...\n",
              "355     Australia    14  False\n",
              "356     Sri Lanka    39   True\n",
              "357     Sri Lanka     6   True\n",
              "358    Bangladesh   114  False\n",
              "359      Pakistan    52   True\n",
              "\n",
              "[353 rows x 3 columns]"
            ]
          },
          "execution_count": 102,
          "metadata": {},
          "output_type": "execute_result"
        }
      ],
      "source": [
        "df_opp"
      ]
    },
    {
      "cell_type": "code",
      "execution_count": null,
      "id": "dd3c6339",
      "metadata": {
        "hidden": true,
        "id": "dd3c6339",
        "outputId": "5312475a-ce02-402c-e7ed-5cd163a87437"
      },
      "outputs": [
        {
          "data": {
            "text/html": [
              "<div>\n",
              "<style scoped>\n",
              "    .dataframe tbody tr th:only-of-type {\n",
              "        vertical-align: middle;\n",
              "    }\n",
              "\n",
              "    .dataframe tbody tr th {\n",
              "        vertical-align: top;\n",
              "    }\n",
              "\n",
              "    .dataframe thead th {\n",
              "        text-align: right;\n",
              "    }\n",
              "</style>\n",
              "<table border=\"1\" class=\"dataframe\">\n",
              "  <thead>\n",
              "    <tr style=\"text-align: right;\">\n",
              "      <th>Won</th>\n",
              "      <th>False</th>\n",
              "      <th>True</th>\n",
              "    </tr>\n",
              "    <tr>\n",
              "      <th>Opp</th>\n",
              "      <th></th>\n",
              "      <th></th>\n",
              "    </tr>\n",
              "  </thead>\n",
              "  <tbody>\n",
              "    <tr>\n",
              "      <th>Australia</th>\n",
              "      <td>41</td>\n",
              "      <td>20</td>\n",
              "    </tr>\n",
              "    <tr>\n",
              "      <th>Bangladesh</th>\n",
              "      <td>2</td>\n",
              "      <td>8</td>\n",
              "    </tr>\n",
              "    <tr>\n",
              "      <th>England</th>\n",
              "      <td>12</td>\n",
              "      <td>13</td>\n",
              "    </tr>\n",
              "    <tr>\n",
              "      <th>Kenya</th>\n",
              "      <td>2</td>\n",
              "      <td>7</td>\n",
              "    </tr>\n",
              "    <tr>\n",
              "      <th>New Zealand</th>\n",
              "      <td>15</td>\n",
              "      <td>17</td>\n",
              "    </tr>\n",
              "    <tr>\n",
              "      <th>Pakistan</th>\n",
              "      <td>30</td>\n",
              "      <td>29</td>\n",
              "    </tr>\n",
              "    <tr>\n",
              "      <th>South Africa</th>\n",
              "      <td>29</td>\n",
              "      <td>15</td>\n",
              "    </tr>\n",
              "    <tr>\n",
              "      <th>Sri Lanka</th>\n",
              "      <td>28</td>\n",
              "      <td>35</td>\n",
              "    </tr>\n",
              "    <tr>\n",
              "      <th>West Indies</th>\n",
              "      <td>11</td>\n",
              "      <td>11</td>\n",
              "    </tr>\n",
              "    <tr>\n",
              "      <th>Zimbabwe</th>\n",
              "      <td>6</td>\n",
              "      <td>22</td>\n",
              "    </tr>\n",
              "  </tbody>\n",
              "</table>\n",
              "</div>"
            ],
            "text/plain": [
              "Won           False  True\n",
              "Opp                      \n",
              "Australia        41    20\n",
              "Bangladesh        2     8\n",
              "England          12    13\n",
              "Kenya             2     7\n",
              "New Zealand      15    17\n",
              "Pakistan         30    29\n",
              "South Africa     29    15\n",
              "Sri Lanka        28    35\n",
              "West Indies      11    11\n",
              "Zimbabwe          6    22"
            ]
          },
          "execution_count": 103,
          "metadata": {},
          "output_type": "execute_result"
        }
      ],
      "source": [
        "pd.crosstab(df_opp[\"Opp\"], df_opp[\"Won\"])"
      ]
    },
    {
      "cell_type": "code",
      "execution_count": null,
      "id": "2230ad9b",
      "metadata": {
        "hidden": true,
        "id": "2230ad9b",
        "outputId": "04176717-4d66-466e-d295-7ecb2cd9c6b1"
      },
      "outputs": [
        {
          "data": {
            "text/plain": [
              "(28.16180864243356,\n",
              " 0.000896252285575796,\n",
              " 9,\n",
              " array([[30.41359773, 30.58640227],\n",
              "        [ 4.98583569,  5.01416431],\n",
              "        [12.46458924, 12.53541076],\n",
              "        [ 4.48725212,  4.51274788],\n",
              "        [15.95467422, 16.04532578],\n",
              "        [29.41643059, 29.58356941],\n",
              "        [21.93767705, 22.06232295],\n",
              "        [31.41076487, 31.58923513],\n",
              "        [10.96883853, 11.03116147],\n",
              "        [13.96033994, 14.03966006]]))"
            ]
          },
          "execution_count": 104,
          "metadata": {},
          "output_type": "execute_result"
        }
      ],
      "source": [
        "chi2_contingency(pd.crosstab(df_opp[\"Opp\"], df_opp[\"Won\"])) # chi_stat, p_value, dof, expected"
      ]
    },
    {
      "cell_type": "markdown",
      "id": "0131c3b4",
      "metadata": {
        "heading_collapsed": true,
        "id": "0131c3b4"
      },
      "source": [
        "## Average across teams"
      ]
    },
    {
      "cell_type": "code",
      "execution_count": null,
      "id": "5526f567",
      "metadata": {
        "hidden": true,
        "id": "5526f567",
        "outputId": "7002e6fd-75e9-4b58-bb48-35aceeba9756"
      },
      "outputs": [
        {
          "name": "stdout",
          "output_type": "stream",
          "text": [
            "New Zealand [24.53125 55.78125]\n",
            "South Africa [28.22670455 53.15909091]\n",
            "Australia [34.04918033 55.8852459 ]\n",
            "Bangladesh [29.1 66.1]\n",
            "Pakistan [28.64364407 48.44152542]\n",
            "Sri Lanka [34.25396825 53.77777778]\n",
            "Kenya [ 35.         108.11666667]\n",
            "West Indies [27.31818182 61.59090909]\n",
            "Zimbabwe [27.96428571 60.82321429]\n",
            "England [33.16 60.64]\n"
          ]
        },
        {
          "data": {
            "image/png": "[encoded data removed]",
            "text/plain": [
              "<Figure size 432x288 with 1 Axes>"
            ]
          },
          "metadata": {
            "needs_background": "light"
          },
          "output_type": "display_data"
        }
      ],
      "source": [
        "df_opp_runs = df_opp[[\"Opp\", \"runs\"]]\n",
        "y = 0\n",
        "for team in df_opp_runs[\"Opp\"].unique():\n",
        "    df_one_team = df_opp_runs[df_opp_runs[\"Opp\"]==team][\"runs\"]\n",
        "    sample_means = [df_one_team.sample(len(df_one_team), replace=True).mean() for i in range(10000)]\n",
        "    confidence_interval = np.percentile(sample_means, [2.5, 97.5])\n",
        "    print(team, confidence_interval)\n",
        "    plt.plot(confidence_interval, [y, y])\n",
        "    y += 1\n",
        "\n",
        "plt.yticks(range(y), df_opp_runs[\"Opp\"].unique())\n",
        "plt.show()\n"
      ]
    },
    {
      "cell_type": "markdown",
      "id": "b0e86bc6",
      "metadata": {
        "heading_collapsed": true,
        "id": "b0e86bc6"
      },
      "source": [
        "## Correlations"
      ]
    },
    {
      "cell_type": "code",
      "execution_count": null,
      "id": "01e71167",
      "metadata": {
        "hidden": true,
        "id": "01e71167",
        "outputId": "0c96d183-764c-4e43-9bb5-fde93c0434eb"
      },
      "outputs": [
        {
          "data": {
            "text/plain": [
              "<AxesSubplot:>"
            ]
          },
          "execution_count": 106,
          "metadata": {},
          "output_type": "execute_result"
        },
        {
          "data": {
            "image/png": "[encoded data removed]",
            "text/plain": [
              "<Figure size 864x864 with 2 Axes>"
            ]
          },
          "metadata": {
            "needs_background": "light"
          },
          "output_type": "display_data"
        }
      ],
      "source": [
        "plt.figure(figsize=(12, 12))\n",
        "sns.heatmap(df.corr(method='pearson'), square=True,annot=True)"
      ]
    },
    {
      "cell_type": "markdown",
      "id": "edebef86",
      "metadata": {
        "id": "edebef86"
      },
      "source": [
        "Year and runs less\n",
        "runs and fours\n",
        "runs vs ball faced\n",
        "won vs four and six"
      ]
    },
    {
      "cell_type": "code",
      "execution_count": null,
      "id": "26737729",
      "metadata": {
        "hidden": true,
        "id": "26737729",
        "outputId": "5b899103-ca55-4195-e9f9-d2cff5ac7dac"
      },
      "outputs": [
        {
          "data": {
            "text/plain": [
              "(0.225120477357304, 1.617983724968977e-05)"
            ]
          },
          "execution_count": 107,
          "metadata": {},
          "output_type": "execute_result"
        }
      ],
      "source": [
        "pearsonr(df[\"Won\"], df[\"fours\"])"
      ]
    },
    {
      "cell_type": "code",
      "execution_count": null,
      "id": "c11c93e3",
      "metadata": {
        "hidden": true,
        "id": "c11c93e3",
        "outputId": "4765871c-0837-43e9-bdb4-ac7aef2384df"
      },
      "outputs": [
        {
          "data": {
            "text/plain": [
              "(0.06383653147729083, 0.22695751355219082)"
            ]
          },
          "execution_count": 108,
          "metadata": {},
          "output_type": "execute_result"
        }
      ],
      "source": [
        "pearsonr(df[\"Won\"], df[\"sixes\"])"
      ]
    },
    {
      "cell_type": "code",
      "execution_count": null,
      "id": "6cca0d81",
      "metadata": {
        "hidden": true,
        "id": "6cca0d81",
        "outputId": "caab5c79-c738-433a-bdfb-6eed5c96e2c9"
      },
      "outputs": [
        {
          "data": {
            "text/plain": [
              "<AxesSubplot:xlabel='runs', ylabel='bf'>"
            ]
          },
          "execution_count": 109,
          "metadata": {},
          "output_type": "execute_result"
        },
        {
          "data": {
            "image/png": "[encoded data removed]",
            "text/plain": [
              "<Figure size 432x288 with 1 Axes>"
            ]
          },
          "metadata": {
            "needs_background": "light"
          },
          "output_type": "display_data"
        }
      ],
      "source": [
        "sns.scatterplot(x=df[\"runs\"], y=df[\"bf\"])"
      ]
    },
    {
      "cell_type": "code",
      "execution_count": null,
      "id": "2bcfba58",
      "metadata": {
        "hidden": true,
        "id": "2bcfba58",
        "outputId": "b5d43005-2866-4636-c682-01734b6d1646"
      },
      "outputs": [
        {
          "data": {
            "text/plain": [
              "<AxesSubplot:xlabel='year', ylabel='runs'>"
            ]
          },
          "execution_count": 110,
          "metadata": {},
          "output_type": "execute_result"
        },
        {
          "data": {
            "image/png": "[encoded data removed]",
            "text/plain": [
              "<Figure size 432x288 with 1 Axes>"
            ]
          },
          "metadata": {
            "needs_background": "light"
          },
          "output_type": "display_data"
        }
      ],
      "source": [
        "sns.scatterplot(x=df[\"year\"], y=df[\"runs\"])"
      ]
    },
    {
      "cell_type": "markdown",
      "id": "d8d77a98",
      "metadata": {
        "id": "d8d77a98"
      },
      "source": [
        "# Numpy random"
      ]
    },
    {
      "cell_type": "code",
      "execution_count": null,
      "id": "4c159f45",
      "metadata": {
        "id": "4c159f45"
      },
      "outputs": [],
      "source": [
        "samples_normal = np.random.normal(loc=3, scale=2, size=200)"
      ]
    },
    {
      "cell_type": "code",
      "execution_count": null,
      "id": "38db4fa4",
      "metadata": {
        "id": "38db4fa4",
        "outputId": "14dfedac-1564-4d59-b839-7a00a20cd787"
      },
      "outputs": [
        {
          "data": {
            "text/plain": [
              "200"
            ]
          },
          "execution_count": 122,
          "metadata": {},
          "output_type": "execute_result"
        }
      ],
      "source": [
        "len(samples_normal)"
      ]
    },
    {
      "cell_type": "code",
      "execution_count": null,
      "id": "390cbc25",
      "metadata": {
        "id": "390cbc25",
        "outputId": "fba97bea-3189-4f91-c1dc-82da5e101a86"
      },
      "outputs": [
        {
          "data": {
            "image/png": "[encoded data removed]",
            "text/plain": [
              "<Figure size 432x288 with 1 Axes>"
            ]
          },
          "metadata": {
            "needs_background": "light"
          },
          "output_type": "display_data"
        }
      ],
      "source": [
        "# comparing with gaussian\n",
        "qqplot(samples_normal, line=\"r\")\n",
        "plt.show()"
      ]
    },
    {
      "cell_type": "code",
      "execution_count": null,
      "id": "4aa956b0",
      "metadata": {
        "id": "4aa956b0",
        "outputId": "d319d1d3-3d57-4359-bca8-8a6e4b5243b3"
      },
      "outputs": [
        {
          "data": {
            "text/plain": [
              "KstestResult(statistic=0.04251847314877377, pvalue=0.8472004052135084)"
            ]
          },
          "execution_count": 113,
          "metadata": {},
          "output_type": "execute_result"
        }
      ],
      "source": [
        "kstest(samples_normal, norm.cdf, args=(samples_normal.mean(), samples_normal.std()))"
      ]
    },
    {
      "cell_type": "code",
      "execution_count": null,
      "id": "cc79d946",
      "metadata": {
        "id": "cc79d946",
        "outputId": "e10fb031-43a9-40c6-d347-104dba109450"
      },
      "outputs": [
        {
          "data": {
            "text/plain": [
              "ShapiroResult(statistic=0.9916731119155884, pvalue=0.30884888768196106)"
            ]
          },
          "execution_count": 124,
          "metadata": {},
          "output_type": "execute_result"
        }
      ],
      "source": [
        "#also rank based.. checks if data from normal distribution\n",
        "shapiro(samples_normal)"
      ]
    },
    {
      "cell_type": "code",
      "execution_count": null,
      "id": "dfc69074",
      "metadata": {
        "id": "dfc69074"
      },
      "outputs": [],
      "source": [
        "samples_exponential = np.random.exponential(size=200)"
      ]
    },
    {
      "cell_type": "code",
      "execution_count": null,
      "id": "d630ee63",
      "metadata": {
        "id": "d630ee63",
        "outputId": "18d6c13c-f987-4cc4-cd75-8dc1d3591dd8"
      },
      "outputs": [
        {
          "data": {
            "image/png": "[encoded data removed]",
            "text/plain": [
              "<Figure size 432x288 with 1 Axes>"
            ]
          },
          "metadata": {
            "needs_background": "light"
          },
          "output_type": "display_data"
        }
      ],
      "source": [
        "qqplot(samples_exponential, line=\"r\")\n",
        "plt.show()"
      ]
    },
    {
      "cell_type": "code",
      "execution_count": null,
      "id": "885287ea",
      "metadata": {
        "id": "885287ea",
        "outputId": "1ec2375f-4997-43a1-d399-08aa52b92133"
      },
      "outputs": [
        {
          "data": {
            "text/plain": [
              "KstestResult(statistic=0.15837414274911998, pvalue=7.548826904336782e-05)"
            ]
          },
          "execution_count": 117,
          "metadata": {},
          "output_type": "execute_result"
        }
      ],
      "source": [
        "kstest(samples_exponential, norm.cdf, args=(samples_exponential.mean(), samples_exponential.std()))"
      ]
    },
    {
      "cell_type": "code",
      "execution_count": null,
      "id": "a40482cd",
      "metadata": {
        "id": "a40482cd",
        "outputId": "3dd85ce3-3cae-4dd9-aa9c-fcd4a78137af"
      },
      "outputs": [
        {
          "data": {
            "text/plain": [
              "ShapiroResult(statistic=0.8042756915092468, pvalue=4.133942181492245e-15)"
            ]
          },
          "execution_count": 118,
          "metadata": {},
          "output_type": "execute_result"
        }
      ],
      "source": [
        "shapiro(samples_exponential)"
      ]
    },
    {
      "cell_type": "markdown",
      "id": "e82dcdd5",
      "metadata": {
        "id": "e82dcdd5"
      },
      "source": [
        "# Homework:\n",
        "\n",
        "Use sklearn SelectKBest with chi2 and choose best features from Sachin's data for predicting win"
      ]
    }
  ],
  "metadata": {
    "kernelspec": {
      "display_name": "Python 3 (ipykernel)",
      "language": "python",
      "name": "python3"
    },
    "language_info": {
      "codemirror_mode": {
        "name": "ipython",
        "version": 3
      },
      "file_extension": ".py",
      "mimetype": "text/x-python",
      "name": "python",
      "nbconvert_exporter": "python",
      "pygments_lexer": "ipython3",
      "version": "3.9.12"
    },
    "colab": {
      "provenance": []
    }
  },
  "nbformat": 4,
  "nbformat_minor": 5
}